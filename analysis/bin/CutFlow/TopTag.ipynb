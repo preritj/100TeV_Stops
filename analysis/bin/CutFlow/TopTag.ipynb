{
 "cells": [
  {
   "cell_type": "code",
   "execution_count": 1,
   "metadata": {
    "collapsed": false
   },
   "outputs": [
    {
     "data": {
      "application/javascript": [
       "require(['codemirror/mode/clike/clike'], function(Clike) { console.log('ROOTaaS - C++ CodeMirror module loaded'); });"
      ]
     },
     "metadata": {},
     "output_type": "display_data"
    },
    {
     "data": {
      "application/javascript": [
       "IPython.CodeCell.config_defaults.highlight_modes['magic_text/x-c++src'] = {'reg':[/^%%cpp/]};"
      ]
     },
     "metadata": {},
     "output_type": "display_data"
    },
    {
     "name": "stdout",
     "output_type": "stream",
     "text": [
      "Welcome to ROOTaaS 6.06/02\n"
     ]
    }
   ],
   "source": [
    "%matplotlib inline\n",
    "import matplotlib.pyplot as plt\n",
    "from matplotlib import rc\n",
    "from ROOT import TFile, TTree, TH1F, TH2F, TChain, TCanvas, kRed, kBlue, gStyle, gROOT, gPad\n",
    "#from ROOT import gROOT, TCanvas, TF1, TFile, TTree, gRandom, TH1F\n",
    "from utils import rootnotes\n",
    "from utils import rootprint\n",
    "import numpy as np\n",
    "import os\n",
    "import csv, sys"
   ]
  },
  {
   "cell_type": "code",
   "execution_count": 2,
   "metadata": {
    "collapsed": false
   },
   "outputs": [],
   "source": [
    "ttFile = TFile(\"/Users/prerit/Physics/100TeV/Stops/Results/t~t~/test2/combined.root\")\n",
    "ttTree = ttFile.Get(\"event\")\n",
    "jjFile = TFile(\"/Users/prerit/Physics/100TeV/Stops/Results/jj/combined.root\")\n",
    "jjTree = jjFile.Get(\"event\")"
   ]
  },
  {
   "cell_type": "code",
   "execution_count": null,
   "metadata": {
    "collapsed": false
   },
   "outputs": [],
   "source": [
    "%%rootprint\n",
    "\n",
    "ttTree.Print()"
   ]
  },
  {
   "cell_type": "code",
   "execution_count": 3,
   "metadata": {
    "collapsed": false
   },
   "outputs": [],
   "source": [
    "def WriteTopInfo(RootFile, CsvFile) : \n",
    "    processFile = TFile(RootFile)\n",
    "    tree = processFile.Get(\"event\")\n",
    "    with open(CsvFile, \"w\") as f:\n",
    "        writer = csv.writer(f, delimiter=',')\n",
    "        # write header\n",
    "        writer.writerow([\"pT\",\"m\",\"zMu\",\"tau32\",\"xMu\",\"dRbMu\",\"weight\"])\n",
    "        for event in tree:\n",
    "            if event.Top_Pt.size() <1 :\n",
    "                continue\n",
    "            data = [event.Top_Pt[0], event.Top_Mass[0], event.Top_zMu[0], event.Top_Tau32[0], \n",
    "                    event.Top_xMu[0], event.Top_DeltaR_bMu[0], event.cWeight]\n",
    "            writer.writerow(data)\n",
    "\n",
    "WriteTopInfo(\"/Users/prerit/Physics/100TeV/Stops/Results/t~t~/test2/combined.root\",\"/Users/prerit/Physics/100TeV/Stops/analysis/bin/TopTag/tops.csv\")\n",
    "WriteTopInfo(\"/Users/prerit/Physics/100TeV/Stops/Results/jj/combined.root\",\"/Users/prerit/Physics/100TeV/Stops/analysis/bin/TopTag/jets.csv\")"
   ]
  },
  {
   "cell_type": "markdown",
   "metadata": {},
   "source": [
    "## Top-tagging for hadronic top decays\n",
    "* We use $\\tau_3/\\tau_2$ (N-subjettiness)  and a top-mass window\n",
    "* We consider jets with $p_T > 2$ TeV for estimatimg tagging efficiency "
   ]
  },
  {
   "cell_type": "code",
   "execution_count": 4,
   "metadata": {
    "collapsed": false
   },
   "outputs": [
    {
     "data": {
      "image/png": "[encoded data removed]",
      "text/plain": [
       "<ROOT.TCanvas object (\"icanvas\") at 0x11baeb5c0>"
      ]
     },
     "execution_count": 4,
     "metadata": {},
     "output_type": "execute_result"
    },
    {
     "name": "stderr",
     "output_type": "stream",
     "text": [
      "Info in <TCanvas::Print>: png file /var/folders/_r/z89y9x9j7cv8h_9n9l58gd8c0000gn/T/tmpIkdYMU.png has been created\r\n"
     ]
    }
   ],
   "source": [
    "c=rootnotes.canvas(size=(1000,400))\n",
    "c.Divide(2,1)\n",
    "\n",
    "#Plot top mass \n",
    "c.cd(1)\n",
    "h_Mass = {}\n",
    "h_Mass[\"tt\"]   = TH1F(\"Mass_tt\", \"Jet mass\", 50, 0 ,250)\n",
    "h_Mass[\"jj\"]   = TH1F(\"Mass_jj\", \"Jet mass\", 50, 0 ,250)\n",
    "ttTree.Draw(\"Top_Mass[0] >>+Mass_tt\",\"cWeight*(Top_Mass[0]>0. && Top_Pt[0]>2000. && @IsoMu_Pt.size() == 0) && Top_DeltaR_bMu[0]<0.\",\"hist\") # && Top_DeltaR_bMu[0]<800./Top_Pt[0]\")\n",
    "h_Mass[\"tt\"].Draw(\"hist\")\n",
    "jjTree.Draw(\"Top_Mass[0] >>+Mass_jj\",\"cWeight*(Top_Mass[0]>0. && Top_Pt[0]>2000. && @IsoMu_Pt.size() == 0) && Top_DeltaR_bMu[0]<0.\",\"histsame\") # && Top_DeltaR_bMu[0]<800./Top_Pt[0]\")\n",
    "h_Mass[\"jj\"].Draw(\"hist same\")\n",
    "h_Mass[\"tt\"].Scale(1/h_Mass[\"tt\"].Integral())\n",
    "h_Mass[\"jj\"].Scale(1/h_Mass[\"jj\"].Integral())\n",
    "h_Mass[\"tt\"].SetLineColor(kRed)\n",
    "h_Mass[\"tt\"].SetMaximum(0.06)\n",
    "h_Mass[\"tt\"].SetMinimum(0.00)\n",
    "\n",
    "#Plot tau32 \n",
    "c.cd(2)\n",
    "h_Tau32 = {}\n",
    "h_Tau32[\"tt\"]   = TH1F(\"Tau32_tt\", \"\\Tau_{32}\", 50, 0. ,1)\n",
    "h_Tau32[\"jj\"]   = TH1F(\"Tau32_jj\", \"\\tau_{32}\", 50, 0. ,1)\n",
    "ttTree.Draw(\"Top_Tau32[0] >>+Tau32_tt\",\"cWeight*(Top_Tau32[0]>0. && Top_Mass[0]>0. && Top_Pt[0]>2000. && @IsoMu_Pt.size() == 0) && Top_DeltaR_bMu[0]<0.\",\"hist\") # && Top_DeltaR_bMu[0]<800./Top_Pt[0]\")\n",
    "h_Tau32[\"tt\"].Draw(\"hist\")\n",
    "jjTree.Draw(\"Top_Tau32[0] >>+Tau32_jj\",\"cWeight*(Top_Tau32[0]>0. && Top_Mass[0]>0. && Top_Pt[0]>2000. && @IsoMu_Pt.size() == 0) && Top_DeltaR_bMu[0]<0.\",\"histsame\") # && Top_DeltaR_bMu[0]<800./Top_Pt[0]\")\n",
    "h_Tau32[\"jj\"].Draw(\"hist same\")\n",
    "h_Tau32[\"tt\"].Scale(1/h_Tau32[\"tt\"].Integral())\n",
    "h_Tau32[\"jj\"].Scale(1/h_Tau32[\"jj\"].Integral())\n",
    "h_Tau32[\"tt\"].SetLineColor(kRed)\n",
    "h_Tau32[\"tt\"].SetMaximum(0.1)\n",
    "h_Tau32[\"tt\"].SetMinimum(0.0)\n",
    "\n",
    "c"
   ]
  },
  {
   "cell_type": "code",
   "execution_count": null,
   "metadata": {
    "collapsed": false,
    "scrolled": true
   },
   "outputs": [
    {
     "name": "stdout",
     "output_type": "stream",
     "text": [
      "Calculating true positive rate for top-tagging\n",
      "    Finished 5000 events\n",
      "    Finished 10000 events\n"
     ]
    }
   ],
   "source": [
    "tau32_cutoffs = np.arange(.35,.65,.01)\n",
    "mass_low_cutoffs = np.arange(90,140,5)\n",
    "mass_high_cutoffs = np.arange(180,230,5)\n",
    "topsFile = TFile(\"/Users/prerit/Physics/100TeV/Stops/Results/t~t~/test2/combined.root\")\n",
    "topsTree = topsFile.Get(\"event\")\n",
    "jetsFile = TFile(\"/Users/prerit/Physics/100TeV/Stops/Results/jj/combined.root\")\n",
    "jetsTree = jetsFile.Get(\"event\")\n",
    "\n",
    "# calculate true positive rate\n",
    "print(\"Calculating true positive rate for top-tagging\")\n",
    "sys.stdout.flush()\n",
    "iEvent = 0\n",
    "total=0.\n",
    "nParams = len(tau32_cutoffs)*len(mass_low_cutoffs)*len(mass_high_cutoffs)\n",
    "topTags = np.zeros(nParams)\n",
    "para_tau32 = np.zeros(nParams)\n",
    "para_mass_low = np.zeros(nParams)\n",
    "para_mass_high = np.zeros(nParams)\n",
    "for event in topsTree :\n",
    "    if event.Top_Pt.size() <1 :\n",
    "        continue\n",
    "    if event.Top_zMu[0] > 0. or event.Top_Pt[0] < 2000. :\n",
    "        continue\n",
    "    tau32 = event.Top_Tau32[0]\n",
    "    mass = event.Top_Mass[0]\n",
    "    weight = event.cWeight\n",
    "    total=total+weight\n",
    "    iEvent=iEvent+1\n",
    "    j=0\n",
    "    for tau32_cutoff in tau32_cutoffs :\n",
    "        for mass_low_cutoff in mass_low_cutoffs :\n",
    "            for mass_high_cutoff in mass_high_cutoffs :\n",
    "                if tau32>0.1 and tau32<tau32_cutoff and mass > mass_low_cutoff and mass < mass_high_cutoff:\n",
    "                    topTags[j]=topTags[j]+weight\n",
    "                para_mass_low[j] = mass_low_cutoff\n",
    "                para_mass_high[j] = mass_high_cutoff\n",
    "                para_tau32[j] = tau32_cutoff\n",
    "                j=j+1\n",
    "    if iEvent%5000 == 0 :\n",
    "        print(\"    Finished \"+str(iEvent)+\" events\")\n",
    "        sys.stdout.flush()\n",
    "tpr = topTags/total\n",
    "\n",
    "# calculate false positive rate\n",
    "print(\"Calculating false positive rate for top-tagging\")\n",
    "sys.stdout.flush()\n",
    "iEvent = 0\n",
    "total=0.\n",
    "nParams = len(tau32_cutoffs)*len(mass_low_cutoffs)*len(mass_high_cutoffs)\n",
    "topTags = np.zeros(nParams)\n",
    "for event in jetsTree :\n",
    "    if event.Top_Pt.size() <1 :\n",
    "        continue\n",
    "    if event.Top_zMu[0] > 0. or event.Top_Pt[0] < 2000. :\n",
    "        continue\n",
    "    tau32 = event.Top_Tau32[0]\n",
    "    mass = event.Top_Mass[0]\n",
    "    weight = event.cWeight\n",
    "    total=total+weight\n",
    "    iEvent=iEvent+1\n",
    "    j=0\n",
    "    for tau32_cutoff in tau32_cutoffs :\n",
    "        for mass_low_cutoff in mass_low_cutoffs :\n",
    "            for mass_high_cutoff in mass_high_cutoffs :\n",
    "                if tau32>0.1 and tau32<tau32_cutoff and mass > mass_low_cutoff and mass < mass_high_cutoff:\n",
    "                    topTags[j]=topTags[j]+weight\n",
    "                j=j+1\n",
    "    if iEvent%5000 == 0 :\n",
    "        print(\"    Finished \"+str(iEvent)+\" events\")\n",
    "        sys.stdout.flush()\n",
    "fpr = topTags/total\n",
    "        "
   ]
  },
  {
   "cell_type": "code",
   "execution_count": null,
   "metadata": {
    "collapsed": false
   },
   "outputs": [],
   "source": [
    "plt.rc('text', usetex=True)\n",
    "plt.figure(1)\n",
    "plt.figure(figsize=(20,8))\n",
    "\n",
    "# Choice of cutoffs \n",
    "Cond = np.logical_and(abs(para_mass_low - 125.)<2.5, abs(para_tau32 - 0.49)<.005)\n",
    "Cond = np.logical_and(Cond, abs(para_mass_high-190.) < 2.5)\n",
    "fpr0 = fpr[Cond]\n",
    "tpr0 = tpr[Cond]\n",
    "\n",
    "# Plot ROC curve with colormap of top mass (lower limit)\n",
    "plt.subplot(131)\n",
    "plt.scatter(fpr,tpr,c=para_mass_low, s=50, lw=0, cmap='inferno')\n",
    "plt.plot(fpr[Cond], tpr[Cond],'xb',mew=6,ms=15)\n",
    "plt.axhline(tpr0, ls='dashed', c='b',lw=3)\n",
    "plt.axvline(fpr0, ls='dashed', c='b',lw=3)\n",
    "plt.xlabel('QCD mistag rate', fontsize=20)\n",
    "plt.ylabel('Top tag efficiency', fontsize=20)\n",
    "plt.colorbar()\n",
    "plt.axis([0,.1,0.1,.5])\n",
    "plt.grid(True)\n",
    "plt.title(r\"$m_{top}$ (lower)\", fontsize=25)\n",
    "\n",
    "# Plot ROC curve with colormap of N-subjettiness\n",
    "plt.subplot(132)\n",
    "plt.scatter(fpr,tpr,c=para_tau32, s=50, lw=0, cmap='inferno')\n",
    "plt.plot(fpr[Cond], tpr[Cond],'xb',mew=6,ms=15)\n",
    "plt.axhline(tpr0, ls='dashed', c='b',lw=3)\n",
    "plt.axvline(fpr0, ls='dashed', c='b',lw=3)\n",
    "plt.xlabel('QCD mistag rate', fontsize=20)\n",
    "plt.ylabel('Top tag efficiency', fontsize=20)\n",
    "plt.colorbar()\n",
    "plt.axis([0,.1,0.1,.5])\n",
    "plt.grid(True)\n",
    "plt.title(r\"$\\tau_3/\\tau_2$\", fontsize=25)\n",
    "\n",
    "# Plot ROC curve with colormap of top mass (upper limit)\n",
    "plt.subplot(133)\n",
    "plt.scatter(fpr,tpr,c=para_mass_high, s=50, lw=0, cmap='inferno_r')\n",
    "plt.plot(fpr[Cond], tpr[Cond],'xb',mew=6,ms=15)\n",
    "plt.axhline(tpr0, ls='dashed', c='b',lw=3)\n",
    "plt.axvline(fpr0, ls='dashed', c='b',lw=3)\n",
    "plt.xlabel('QCD mistag rate', fontsize=20)\n",
    "plt.ylabel('Top tag efficiency', fontsize=20)\n",
    "plt.colorbar()\n",
    "plt.axis([0,.1,0.1,.5])\n",
    "plt.grid(True)\n",
    "plt.title(r\"$m_{top}$ (upper)\", fontsize=25)\n",
    "\n",
    "plt.show()"
   ]
  },
  {
   "cell_type": "markdown",
   "metadata": {},
   "source": [
    "## Top-tagging for leptonic top decays\n",
    "* We use $x_\\mu = 1 - \\frac{m_b^2}{m_{b \\mu}^2}$  and $\\Delta R_{b \\mu} \\frac{p_T^{jet}}{2 m_{top}}$\n",
    "* We consider jets with $p_T > 800$ GeV for estimatimg tagging efficiency "
   ]
  },
  {
   "cell_type": "code",
   "execution_count": null,
   "metadata": {
    "collapsed": false
   },
   "outputs": [],
   "source": [
    "c=rootnotes.canvas(size=(1000,400))\n",
    "c.Divide(3,1)\n",
    "\n",
    "#Plot x_mu \n",
    "c.cd(1)\n",
    "h_xMu = {}\n",
    "h_xMu[\"tt\"]   = TH1F(\"xMu_tt\", \"x_{\\mu}\", 50, 0 ,1)\n",
    "h_xMu[\"jj\"]   = TH1F(\"xMu_jj\", \"x_{\\mu}\", 50, 0 ,1)\n",
    "ttTree.Draw(\"Top_xMu[0] >>+xMu_tt\",\"cWeight*(Top_xMu[0]>0. && Top_Pt[0]>800. && @IsoMu_Pt.size() == 0)\",\"hist\") # && Top_DeltaR_bMu[0]<800./Top_Pt[0]\")\n",
    "h_xMu[\"tt\"].Draw(\"hist\")\n",
    "jjTree.Draw(\"Top_xMu[0] >>+xMu_jj\",\"cWeight*(Top_xMu[0]>0. && Top_Pt[0]>800. && @IsoMu_Pt.size() == 0)\",\"histsame\") # && Top_DeltaR_bMu[0]<800./Top_Pt[0]\")\n",
    "h_xMu[\"jj\"].Draw(\"hist same\")\n",
    "h_xMu[\"tt\"].Scale(1/h_xMu[\"tt\"].Integral())\n",
    "h_xMu[\"jj\"].Scale(1/h_xMu[\"jj\"].Integral())\n",
    "h_xMu[\"tt\"].SetLineColor(kRed)\n",
    "h_xMu[\"tt\"].SetMaximum(0.1)\n",
    "h_xMu[\"tt\"].SetMinimum(0.01)\n",
    "\n",
    "#Plot dR(b,mu)\n",
    "c.cd(2)\n",
    "h_DeltaR_bMu = {}\n",
    "h_DeltaR_bMu[\"tt\"]   = TH1F(\"DeltaR_bMu_tt\", \"\\Delta R_{b \\mu} * p_T / (350 GeV)\", 50, 0 ,1)\n",
    "h_DeltaR_bMu[\"jj\"]   = TH1F(\"DeltaR_bMu_jj\", \"\\Delta R_{b \\mu} * p_T / (350 GeV)\", 50, 0 ,1)\n",
    "ttTree.Draw(\"Top_DeltaR_bMu[0]*Top_Pt[0]/350. >>+DeltaR_bMu_tt\",\"cWeight*(Top_DeltaR_bMu[0]>0. && Top_Pt[0]>800. && @IsoMu_Pt.size() == 0)\",\"hist\") # && Top_DeltaR_bMu[0]<800./Top_Pt[0]\")\n",
    "h_DeltaR_bMu[\"tt\"].Draw(\"hist\")\n",
    "jjTree.Draw(\"Top_DeltaR_bMu[0]*Top_Pt[0]/350. >>+DeltaR_bMu_jj\",\"cWeight*(Top_DeltaR_bMu[0]>0. && Top_Pt[0]>800. && @IsoMu_Pt.size() == 0)\",\"histsame\") # && Top_DeltaR_bMu[0]<800./Top_Pt[0]\")\n",
    "h_DeltaR_bMu[\"jj\"].Draw(\"hist same\")\n",
    "h_DeltaR_bMu[\"tt\"].Scale(1/h_DeltaR_bMu[\"tt\"].Integral())\n",
    "h_DeltaR_bMu[\"jj\"].Scale(1/h_DeltaR_bMu[\"jj\"].Integral())\n",
    "h_DeltaR_bMu[\"tt\"].SetLineColor(kRed)\n",
    "h_DeltaR_bMu[\"tt\"].SetMaximum(0.22)\n",
    "h_DeltaR_bMu[\"tt\"].SetMinimum(0.01)\n",
    "\n",
    "#Plot top mass \n",
    "c.cd(3)\n",
    "h_Mass = {}\n",
    "h_Mass[\"tt\"]   = TH1F(\"Mass_tt\", \"Jet mass\", 50, 0 ,250)\n",
    "h_Mass[\"jj\"]   = TH1F(\"Mass_jj\", \"Jet mass\", 50, 0 ,250)\n",
    "ttTree.Draw(\"Top_Mass[0] >>+Mass_tt\",\"cWeight*(Top_zMu[0]>0. && Top_Mass[0]>0. && Top_Pt[0]>800. && @IsoMu_Pt.size() == 0) \",\"hist\") # && Top_DeltaR_bMu[0]<800./Top_Pt[0]\")\n",
    "h_Mass[\"tt\"].Draw(\"hist\")\n",
    "jjTree.Draw(\"Top_Mass[0] >>+Mass_jj\",\"cWeight*(Top_zMu[0]>0. && Top_Mass[0]>0. && Top_Pt[0]>800. && @IsoMu_Pt.size() == 0) \",\"histsame\") # && Top_DeltaR_bMu[0]<800./Top_Pt[0]\")\n",
    "h_Mass[\"jj\"].Draw(\"hist same\")\n",
    "h_Mass[\"tt\"].Scale(1/h_Mass[\"tt\"].Integral())\n",
    "h_Mass[\"jj\"].Scale(1/h_Mass[\"jj\"].Integral())\n",
    "h_Mass[\"tt\"].SetLineColor(kRed)\n",
    "h_Mass[\"tt\"].SetMaximum(0.07)\n",
    "h_Mass[\"tt\"].SetMinimum(0.006)\n",
    "\n",
    "c"
   ]
  },
  {
   "cell_type": "code",
   "execution_count": null,
   "metadata": {
    "collapsed": false
   },
   "outputs": [],
   "source": [
    "dRbMu_cutoffs = np.arange(.0,.5,.02)\n",
    "mass_cutoffs = np.arange(20,200,10)\n",
    "xMu_cutoffs = np.arange(0.5,0.9,0.02)\n",
    "topsFile = TFile(\"/Users/prerit/Physics/100TeV/Stops/Results/t~t~/test2/combined.root\")\n",
    "topsTree = topsFile.Get(\"event\")\n",
    "jetsFile = TFile(\"/Users/prerit/Physics/100TeV/Stops/Results/jj/combined.root\")\n",
    "jetsTree = jetsFile.Get(\"event\")\n",
    "\n",
    "# calculate true positive rate\n",
    "print(\"Calculating true positive rate for top-tagging\")\n",
    "sys.stdout.flush()\n",
    "iEvent = 0\n",
    "total=0.\n",
    "nParams = len(dRbMu_cutoffs)*len(mass_cutoffs)*len(xMu_cutoffs)\n",
    "topTags = np.zeros(nParams)\n",
    "para_dRbMu = np.zeros(nParams)\n",
    "para_mass = np.zeros(nParams)\n",
    "para_xMu = np.zeros(nParams)\n",
    "for event in topsTree :\n",
    "    if event.Top_Pt.size() <1 :\n",
    "        continue\n",
    "    if event.Top_zMu[0] < 0. or event.Top_Pt[0] < 800. :\n",
    "        continue\n",
    "    dRbMu = event.Top_DeltaR_bMu[0]*event.Top_Pt[0]/350.\n",
    "    mass = event.Top_Mass[0]\n",
    "    xMu = event.Top_xMu[0]\n",
    "    weight = event.cWeight\n",
    "    total=total+weight\n",
    "    iEvent=iEvent+1\n",
    "    j=0\n",
    "    for dRbMu_cutoff in dRbMu_cutoffs :\n",
    "        for mass_cutoff in mass_cutoffs :\n",
    "            for xMu_cutoff in xMu_cutoffs :\n",
    "                if dRbMu>dRbMu_cutoff and mass > mass_cutoff and xMu > xMu_cutoff:\n",
    "                    topTags[j]=topTags[j]+weight\n",
    "                para_dRbMu[j] = dRbMu_cutoff\n",
    "                para_mass[j] = mass_cutoff\n",
    "                para_xMu[j] = xMu_cutoff\n",
    "                j=j+1\n",
    "    if iEvent%500 == 0 :\n",
    "        print(\"    Finished \"+str(iEvent)+\" events\")\n",
    "        sys.stdout.flush()\n",
    "tpr_lep = topTags/total\n",
    "\n",
    "# calculate false positive rate\n",
    "print(\"Calculating false positive rate for top-tagging\")\n",
    "sys.stdout.flush()\n",
    "iEvent = 0\n",
    "total=0.\n",
    "nParams = len(dRbMu_cutoffs)*len(mass_cutoffs)*len(xMu_cutoffs)\n",
    "topTags = np.zeros(nParams)\n",
    "for event in jetsTree :\n",
    "    if event.Top_Pt.size() <1 :\n",
    "        continue\n",
    "    if event.Top_zMu[0] < 0. or event.Top_Pt[0] < 800. :\n",
    "        continue\n",
    "    dRbMu = event.Top_DeltaR_bMu[0]*event.Top_Pt[0]/350.\n",
    "    mass = event.Top_Mass[0]\n",
    "    xMu = event.Top_xMu[0]\n",
    "    weight = event.cWeight\n",
    "    total=total+weight\n",
    "    iEvent=iEvent+1\n",
    "    j=0\n",
    "    for dRbMu_cutoff in dRbMu_cutoffs :\n",
    "        for mass_cutoff in mass_cutoffs :\n",
    "            for xMu_cutoff in xMu_cutoffs :\n",
    "                if dRbMu>dRbMu_cutoff and mass > mass_cutoff and xMu > xMu_cutoff:\n",
    "                    topTags[j]=topTags[j]+weight\n",
    "                j=j+1\n",
    "    if iEvent%500 == 0 :\n",
    "        print(\"    Finished \"+str(iEvent)+\" events\")\n",
    "        sys.stdout.flush()\n",
    "fpr_lep = topTags/total\n",
    "   "
   ]
  },
  {
   "cell_type": "code",
   "execution_count": null,
   "metadata": {
    "collapsed": false
   },
   "outputs": [],
   "source": [
    "plt.rc('text', usetex=True)\n",
    "plt.figure(1)\n",
    "plt.figure(figsize=(20,8))\n",
    "\n",
    "# Choice of cutoffs \n",
    "Cond = np.logical_and(abs(para_xMu - 0.81)<.01, abs(para_dRbMu - 0.2)<.01)\n",
    "Cond = np.logical_and(Cond, abs(para_mass-40) < 2.5)\n",
    "fpr0 = fpr_lep[Cond]\n",
    "tpr0 = tpr_lep[Cond]\n",
    "\n",
    "# Plot ROC curve with colormap of x_mu \n",
    "plt.subplot(121)\n",
    "plt.scatter(fpr_lep,tpr_lep,c=para_xMu, s=50, lw=0, cmap='Blues_r')\n",
    "plt.plot(fpr_lep[Cond], tpr_lep[Cond],'xr',mew=6,ms=15)\n",
    "plt.axhline(tpr0, ls='dashed', c='r')\n",
    "plt.axvline(fpr0, ls='dashed', c='r')\n",
    "plt.xlabel('QCD mistag rate', fontsize=20)\n",
    "plt.ylabel('Top tag efficiency', fontsize=20)\n",
    "plt.colorbar()\n",
    "plt.axis([0,.1,0.2,.56])\n",
    "plt.grid(True)\n",
    "plt.title(r\"$x_{\\mu}$\", fontsize=25)\n",
    "\n",
    "# Plot ROC curve with colormap of DeltaR(b,muon)\n",
    "plt.subplot(122)\n",
    "plt.scatter(fpr_lep,tpr_lep,c=para_dRbMu, s=50, lw=0, cmap='Blues_r')\n",
    "plt.plot(fpr_lep[Cond], tpr_lep[Cond],'xr',mew=6,ms=15)\n",
    "plt.axhline(tpr0, ls='dashed', c='r')\n",
    "plt.axvline(fpr0, ls='dashed', c='r')\n",
    "plt.xlabel('QCD mistag rate', fontsize=20)\n",
    "plt.ylabel('Top tag efficiency', fontsize=20)\n",
    "plt.colorbar()\n",
    "plt.axis([0,.1,0.2,.56])\n",
    "plt.grid(True)\n",
    "plt.title(r\"$\\Delta R_{b \\mu} \\times p_T^{jet}/(2 m_{top})$\", fontsize=25)\n",
    "\n",
    "plt.show()"
   ]
  }
 ],
 "metadata": {
  "kernelspec": {
   "display_name": "Python 2",
   "language": "python",
   "name": "python2"
  },
  "language_info": {
   "codemirror_mode": {
    "name": "ipython",
    "version": 2
   },
   "file_extension": ".py",
   "mimetype": "text/x-python",
   "name": "python",
   "nbconvert_exporter": "python",
   "pygments_lexer": "ipython2",
   "version": "2.7.11"
  }
 },
 "nbformat": 4,
 "nbformat_minor": 0
}
