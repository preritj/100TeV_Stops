{
 "cells": [
  {
   "cell_type": "code",
   "execution_count": 1,
   "metadata": {
    "collapsed": true
   },
   "outputs": [],
   "source": [
    "import urllib, urllib2\n",
    "import bs4 # beautiful soup\n",
    "import os, sys"
   ]
  },
  {
   "cell_type": "code",
   "execution_count": 2,
   "metadata": {
    "collapsed": false
   },
   "outputs": [],
   "source": [
    "# Read number of events in the root files\n",
    "def GetEvents(filename): \n",
    "    events = 0\n",
    "    with open(filename,'r') as f:\n",
    "        for line in f: \n",
    "            if line.startswith('Input Events'): \n",
    "                events =  int(line.split(':')[1].strip())\n",
    "                break\n",
    "    return events\n",
    "\n",
    "# Downloads root files from the web in the directory outDIR\n",
    "# process can be for example 'ttB', 'tt', 'tB', etc.\n",
    "# HTbin is the HT bin for a given process for example '9000-100000'\n",
    "# nEvents is the approx number of events you want to download \n",
    "def DownloadRoots(process, HTbin, nEvents, outDIR='.'):\n",
    "    # create directory to store root files\n",
    "    procDIR = os.path.join(outDIR, process, HTbin)\n",
    "    procDIR = os.path.abspath(procDIR)\n",
    "    if not os.path.exists(procDIR):\n",
    "        os.makedirs(procDIR)\n",
    "    # connect to the url where root files are stored    \n",
    "    BaseURL = 'http://red-gridftp11.unl.edu/Snowmass/HTBinned/Delphes-3.0.9.2/NoPileUp/'+process+'-4p-'+HTbin+'_100TEV/'\n",
    "    url = BaseURL + '?C=S;O=D' # arrange files by size\n",
    "    print 'Connecting to ' + url\n",
    "    source = urllib2.urlopen(url).read()\n",
    "    soup = bs4.BeautifulSoup(source,'lxml')\n",
    "    link_list = [l.get('href') for l in soup.findAll('a')]\n",
    "    RootFiles = [BaseURL+l for l in link_list if l is not None and l.startswith(process) and l.endswith('root')]\n",
    "    txtFiles = [f[:-5]+'.txt' for f in RootFiles]\n",
    "    sumEvents=0\n",
    "    for i in range(len(txtFiles)):\n",
    "        tag = str(i+1).zfill(3)\n",
    "        txtfile = os.path.join(procDIR, tag+'.txt')\n",
    "        rootfile = os.path.join(procDIR, tag+'.root')\n",
    "        # check if root file is already downloaded \n",
    "        if os.path.isfile(rootfile) :\n",
    "            sumEvents = sumEvents + GetEvents(txtfile)\n",
    "            if sumEvents > nEvents : break\n",
    "            continue\n",
    "        print 'Downloading '+RootFiles[i]\n",
    "        urllib.urlretrieve(txtFiles[i],txtfile)\n",
    "        urllib.urlretrieve(RootFiles[i],rootfile)\n",
    "        sumEvents = sumEvents + GetEvents(txtfile)\n",
    "        if sumEvents > nEvents : break\n",
    "    print '***********************************************'\n",
    "    print 'Downloaded ~ '+str(sumEvents)+' events'\n",
    "    print 'Files downloaded in ' + os.path.abspath(procDIR)\n",
    "    print '***********************************************'"
   ]
  },
  {
   "cell_type": "code",
   "execution_count": 11,
   "metadata": {
    "collapsed": false
   },
   "outputs": [],
   "source": [
    "# to download root files with ~100,000 events for 'ttB' background in the HT bin '9000-100000' : \n",
    "DownloadRoots('ttB','9000-100000',100000,'your_data_dir')"
   ]
  }
 ],
 "metadata": {
  "kernelspec": {
   "display_name": "Python 2",
   "language": "python",
   "name": "python2"
  },
  "language_info": {
   "codemirror_mode": {
    "name": "ipython",
    "version": 2
   },
   "file_extension": ".py",
   "mimetype": "text/x-python",
   "name": "python",
   "nbconvert_exporter": "python",
   "pygments_lexer": "ipython2",
   "version": "2.7.11"
  }
 },
 "nbformat": 4,
 "nbformat_minor": 0
}
